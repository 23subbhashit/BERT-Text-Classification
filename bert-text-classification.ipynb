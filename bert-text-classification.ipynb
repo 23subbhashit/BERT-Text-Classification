{
 "cells": [
  {
   "cell_type": "code",
   "execution_count": 1,
   "id": "underlying-discretion",
   "metadata": {
    "execution": {
     "iopub.execute_input": "2021-06-27T16:54:28.365681Z",
     "iopub.status.busy": "2021-06-27T16:54:28.364542Z",
     "iopub.status.idle": "2021-06-27T16:54:28.367365Z",
     "shell.execute_reply": "2021-06-27T16:54:28.366869Z",
     "shell.execute_reply.started": "2021-06-27T16:00:43.222137Z"
    },
    "papermill": {
     "duration": 0.026811,
     "end_time": "2021-06-27T16:54:28.367485",
     "exception": false,
     "start_time": "2021-06-27T16:54:28.340674",
     "status": "completed"
    },
    "tags": []
   },
   "outputs": [],
   "source": [
    "import numpy as np \n",
    "import pandas as pd\n",
    "import os"
   ]
  },
  {
   "cell_type": "code",
   "execution_count": 2,
   "id": "universal-verification",
   "metadata": {
    "execution": {
     "iopub.execute_input": "2021-06-27T16:54:28.397953Z",
     "iopub.status.busy": "2021-06-27T16:54:28.397352Z",
     "iopub.status.idle": "2021-06-27T16:54:29.387966Z",
     "shell.execute_reply": "2021-06-27T16:54:29.387101Z",
     "shell.execute_reply.started": "2021-06-27T16:00:43.229808Z"
    },
    "papermill": {
     "duration": 1.007479,
     "end_time": "2021-06-27T16:54:29.388108",
     "exception": false,
     "start_time": "2021-06-27T16:54:28.380629",
     "status": "completed"
    },
    "tags": []
   },
   "outputs": [],
   "source": [
    "!wget --quiet https://raw.githubusercontent.com/tensorflow/models/master/official/nlp/bert/tokenization.py"
   ]
  },
  {
   "cell_type": "code",
   "execution_count": 3,
   "id": "excessive-petersburg",
   "metadata": {
    "execution": {
     "iopub.execute_input": "2021-06-27T16:54:29.419550Z",
     "iopub.status.busy": "2021-06-27T16:54:29.418779Z",
     "iopub.status.idle": "2021-06-27T16:54:34.863137Z",
     "shell.execute_reply": "2021-06-27T16:54:34.862641Z",
     "shell.execute_reply.started": "2021-06-27T16:00:44.042887Z"
    },
    "papermill": {
     "duration": 5.461592,
     "end_time": "2021-06-27T16:54:34.863276",
     "exception": false,
     "start_time": "2021-06-27T16:54:29.401684",
     "status": "completed"
    },
    "tags": []
   },
   "outputs": [],
   "source": [
    "import tokenization\n",
    "import tensorflow as tf\n",
    "import tensorflow_hub as hub\n",
    "from keras.utils import to_categorical\n",
    "from sklearn import preprocessing\n",
    "from sklearn.model_selection import train_test_split"
   ]
  },
  {
   "cell_type": "code",
   "execution_count": 4,
   "id": "senior-least",
   "metadata": {
    "execution": {
     "iopub.execute_input": "2021-06-27T16:54:34.896377Z",
     "iopub.status.busy": "2021-06-27T16:54:34.895671Z",
     "iopub.status.idle": "2021-06-27T16:54:35.250287Z",
     "shell.execute_reply": "2021-06-27T16:54:35.249376Z",
     "shell.execute_reply.started": "2021-06-27T16:00:46.022772Z"
    },
    "papermill": {
     "duration": 0.372628,
     "end_time": "2021-06-27T16:54:35.250427",
     "exception": false,
     "start_time": "2021-06-27T16:54:34.877799",
     "status": "completed"
    },
    "tags": []
   },
   "outputs": [],
   "source": [
    "train_data = pd.read_csv('/kaggle/input/covid-19-nlp-text-classification/Corona_NLP_train.csv', encoding='latin-1')\n",
    "test_data = pd.read_csv('/kaggle/input/covid-19-nlp-text-classification/Corona_NLP_test.csv', encoding='latin-1')"
   ]
  },
  {
   "cell_type": "code",
   "execution_count": 5,
   "id": "missing-politics",
   "metadata": {
    "execution": {
     "iopub.execute_input": "2021-06-27T16:54:35.293673Z",
     "iopub.status.busy": "2021-06-27T16:54:35.285603Z",
     "iopub.status.idle": "2021-06-27T16:54:35.303785Z",
     "shell.execute_reply": "2021-06-27T16:54:35.304204Z",
     "shell.execute_reply.started": "2021-06-27T16:00:46.187227Z"
    },
    "papermill": {
     "duration": 0.03988,
     "end_time": "2021-06-27T16:54:35.304332",
     "exception": false,
     "start_time": "2021-06-27T16:54:35.264452",
     "status": "completed"
    },
    "tags": []
   },
   "outputs": [
    {
     "data": {
      "text/html": [
       "<div>\n",
       "<style scoped>\n",
       "    .dataframe tbody tr th:only-of-type {\n",
       "        vertical-align: middle;\n",
       "    }\n",
       "\n",
       "    .dataframe tbody tr th {\n",
       "        vertical-align: top;\n",
       "    }\n",
       "\n",
       "    .dataframe thead th {\n",
       "        text-align: right;\n",
       "    }\n",
       "</style>\n",
       "<table border=\"1\" class=\"dataframe\">\n",
       "  <thead>\n",
       "    <tr style=\"text-align: right;\">\n",
       "      <th></th>\n",
       "      <th>UserName</th>\n",
       "      <th>ScreenName</th>\n",
       "      <th>Location</th>\n",
       "      <th>TweetAt</th>\n",
       "      <th>OriginalTweet</th>\n",
       "      <th>Sentiment</th>\n",
       "    </tr>\n",
       "  </thead>\n",
       "  <tbody>\n",
       "    <tr>\n",
       "      <th>0</th>\n",
       "      <td>3799</td>\n",
       "      <td>48751</td>\n",
       "      <td>London</td>\n",
       "      <td>16-03-2020</td>\n",
       "      <td>@MeNyrbie @Phil_Gahan @Chrisitv https://t.co/i...</td>\n",
       "      <td>Neutral</td>\n",
       "    </tr>\n",
       "    <tr>\n",
       "      <th>1</th>\n",
       "      <td>3800</td>\n",
       "      <td>48752</td>\n",
       "      <td>UK</td>\n",
       "      <td>16-03-2020</td>\n",
       "      <td>advice Talk to your neighbours family to excha...</td>\n",
       "      <td>Positive</td>\n",
       "    </tr>\n",
       "    <tr>\n",
       "      <th>2</th>\n",
       "      <td>3801</td>\n",
       "      <td>48753</td>\n",
       "      <td>Vagabonds</td>\n",
       "      <td>16-03-2020</td>\n",
       "      <td>Coronavirus Australia: Woolworths to give elde...</td>\n",
       "      <td>Positive</td>\n",
       "    </tr>\n",
       "    <tr>\n",
       "      <th>3</th>\n",
       "      <td>3802</td>\n",
       "      <td>48754</td>\n",
       "      <td>NaN</td>\n",
       "      <td>16-03-2020</td>\n",
       "      <td>My food stock is not the only one which is emp...</td>\n",
       "      <td>Positive</td>\n",
       "    </tr>\n",
       "    <tr>\n",
       "      <th>4</th>\n",
       "      <td>3803</td>\n",
       "      <td>48755</td>\n",
       "      <td>NaN</td>\n",
       "      <td>16-03-2020</td>\n",
       "      <td>Me, ready to go at supermarket during the #COV...</td>\n",
       "      <td>Extremely Negative</td>\n",
       "    </tr>\n",
       "  </tbody>\n",
       "</table>\n",
       "</div>"
      ],
      "text/plain": [
       "   UserName  ScreenName   Location     TweetAt  \\\n",
       "0      3799       48751     London  16-03-2020   \n",
       "1      3800       48752         UK  16-03-2020   \n",
       "2      3801       48753  Vagabonds  16-03-2020   \n",
       "3      3802       48754        NaN  16-03-2020   \n",
       "4      3803       48755        NaN  16-03-2020   \n",
       "\n",
       "                                       OriginalTweet           Sentiment  \n",
       "0  @MeNyrbie @Phil_Gahan @Chrisitv https://t.co/i...             Neutral  \n",
       "1  advice Talk to your neighbours family to excha...            Positive  \n",
       "2  Coronavirus Australia: Woolworths to give elde...            Positive  \n",
       "3  My food stock is not the only one which is emp...            Positive  \n",
       "4  Me, ready to go at supermarket during the #COV...  Extremely Negative  "
      ]
     },
     "execution_count": 5,
     "metadata": {},
     "output_type": "execute_result"
    }
   ],
   "source": [
    "train_data.head()"
   ]
  },
  {
   "cell_type": "code",
   "execution_count": 6,
   "id": "alert-member",
   "metadata": {
    "execution": {
     "iopub.execute_input": "2021-06-27T16:54:35.336360Z",
     "iopub.status.busy": "2021-06-27T16:54:35.335879Z",
     "iopub.status.idle": "2021-06-27T16:54:35.339697Z",
     "shell.execute_reply": "2021-06-27T16:54:35.339291Z",
     "shell.execute_reply.started": "2021-06-27T16:00:46.211668Z"
    },
    "papermill": {
     "duration": 0.020898,
     "end_time": "2021-06-27T16:54:35.339821",
     "exception": false,
     "start_time": "2021-06-27T16:54:35.318923",
     "status": "completed"
    },
    "tags": []
   },
   "outputs": [],
   "source": [
    "train_data= train_data"
   ]
  },
  {
   "cell_type": "code",
   "execution_count": 7,
   "id": "ambient-curve",
   "metadata": {
    "execution": {
     "iopub.execute_input": "2021-06-27T16:54:35.385433Z",
     "iopub.status.busy": "2021-06-27T16:54:35.384569Z",
     "iopub.status.idle": "2021-06-27T16:54:35.390646Z",
     "shell.execute_reply": "2021-06-27T16:54:35.391330Z",
     "shell.execute_reply.started": "2021-06-27T16:00:46.218289Z"
    },
    "papermill": {
     "duration": 0.037199,
     "end_time": "2021-06-27T16:54:35.391498",
     "exception": false,
     "start_time": "2021-06-27T16:54:35.354299",
     "status": "completed"
    },
    "tags": []
   },
   "outputs": [
    {
     "name": "stdout",
     "output_type": "stream",
     "text": [
      "[[0. 0. 0. 1. 0.]\n",
      " [0. 0. 0. 0. 1.]\n",
      " [0. 0. 0. 0. 1.]\n",
      " [0. 0. 0. 0. 1.]\n",
      " [1. 0. 0. 0. 0.]]\n"
     ]
    }
   ],
   "source": [
    "label = preprocessing.LabelEncoder()\n",
    "y = label.fit_transform(train_data['Sentiment'])\n",
    "y = to_categorical(y)\n",
    "print(y[:5])"
   ]
  },
  {
   "cell_type": "code",
   "execution_count": 8,
   "id": "positive-england",
   "metadata": {
    "execution": {
     "iopub.execute_input": "2021-06-27T16:54:35.427043Z",
     "iopub.status.busy": "2021-06-27T16:54:35.426237Z",
     "iopub.status.idle": "2021-06-27T16:54:49.004618Z",
     "shell.execute_reply": "2021-06-27T16:54:49.003651Z",
     "shell.execute_reply.started": "2021-06-27T16:00:46.243536Z"
    },
    "papermill": {
     "duration": 13.597369,
     "end_time": "2021-06-27T16:54:49.004784",
     "exception": false,
     "start_time": "2021-06-27T16:54:35.407415",
     "status": "completed"
    },
    "tags": []
   },
   "outputs": [],
   "source": [
    "m_url = 'https://tfhub.dev/tensorflow/bert_en_uncased_L-12_H-768_A-12/2'\n",
    "bert_layer = hub.KerasLayer(m_url, trainable=True)"
   ]
  },
  {
   "cell_type": "code",
   "execution_count": 9,
   "id": "viral-bunny",
   "metadata": {
    "execution": {
     "iopub.execute_input": "2021-06-27T16:54:49.040526Z",
     "iopub.status.busy": "2021-06-27T16:54:49.039924Z",
     "iopub.status.idle": "2021-06-27T16:54:49.149501Z",
     "shell.execute_reply": "2021-06-27T16:54:49.149934Z",
     "shell.execute_reply.started": "2021-06-27T16:00:51.829786Z"
    },
    "papermill": {
     "duration": 0.130901,
     "end_time": "2021-06-27T16:54:49.150085",
     "exception": false,
     "start_time": "2021-06-27T16:54:49.019184",
     "status": "completed"
    },
    "tags": []
   },
   "outputs": [],
   "source": [
    "vocab_file = bert_layer.resolved_object.vocab_file.asset_path.numpy()\n",
    "do_lower_case = bert_layer.resolved_object.do_lower_case.numpy()\n",
    "tokenizer = tokenization.FullTokenizer(vocab_file, do_lower_case)\n",
    "\n",
    "def bert_encode(texts, tokenizer, max_len=512):\n",
    "    all_tokens = []\n",
    "    all_masks = []\n",
    "    all_segments = []\n",
    "    \n",
    "    for text in texts:\n",
    "        text = tokenizer.tokenize(text)\n",
    "        \n",
    "        text = text[:max_len-2]\n",
    "        input_sequence = [\"[CLS]\"] + text + [\"[SEP]\"]\n",
    "        pad_len = max_len-len(input_sequence)\n",
    "        \n",
    "        tokens = tokenizer.convert_tokens_to_ids(input_sequence) + [0] * pad_len\n",
    "        pad_masks = [1] * len(input_sequence) + [0] * pad_len\n",
    "        segment_ids = [0] * max_len\n",
    "        all_tokens.append(tokens)\n",
    "        all_masks.append(pad_masks)\n",
    "        all_segments.append(segment_ids)\n",
    "        \n",
    "    return np.array(all_tokens), np.array(all_masks), np.array(all_segments)"
   ]
  },
  {
   "cell_type": "code",
   "execution_count": 10,
   "id": "blocked-pennsylvania",
   "metadata": {
    "execution": {
     "iopub.execute_input": "2021-06-27T16:54:49.186547Z",
     "iopub.status.busy": "2021-06-27T16:54:49.186036Z",
     "iopub.status.idle": "2021-06-27T16:54:49.189785Z",
     "shell.execute_reply": "2021-06-27T16:54:49.189351Z",
     "shell.execute_reply.started": "2021-06-27T16:00:51.945003Z"
    },
    "papermill": {
     "duration": 0.025778,
     "end_time": "2021-06-27T16:54:49.189892",
     "exception": false,
     "start_time": "2021-06-27T16:54:49.164114",
     "status": "completed"
    },
    "tags": []
   },
   "outputs": [],
   "source": [
    "def build_model(bert_layer, max_len=512):\n",
    "    input_word_ids = tf.keras.Input(shape=(max_len,), dtype=tf.int32, name=\"input_word_ids\")\n",
    "    input_mask = tf.keras.Input(shape=(max_len,), dtype=tf.int32, name=\"input_mask\")\n",
    "    segment_ids = tf.keras.Input(shape=(max_len,), dtype=tf.int32, name=\"segment_ids\")\n",
    "    \n",
    "    pooled_output, sequence_output = bert_layer([input_word_ids, input_mask, segment_ids])\n",
    "    \n",
    "    clf_output = sequence_output[:, 0, :]\n",
    "    \n",
    "    lay = tf.keras.layers.Dense(64, activation='relu')(clf_output)\n",
    "    lay = tf.keras.layers.Dropout(0.2)(lay)\n",
    "    lay = tf.keras.layers.Dense(32, activation='relu')(lay)\n",
    "    lay = tf.keras.layers.Dropout(0.2)(lay)\n",
    "    out = tf.keras.layers.Dense(5, activation='softmax')(lay)\n",
    "    \n",
    "    model = tf.keras.models.Model(inputs=[input_word_ids, input_mask, segment_ids], outputs=out)\n",
    "    model.compile(tf.keras.optimizers.Adam(lr=2e-5), loss='categorical_crossentropy', metrics=['accuracy'])\n",
    "    \n",
    "    return model"
   ]
  },
  {
   "cell_type": "code",
   "execution_count": 11,
   "id": "descending-award",
   "metadata": {
    "execution": {
     "iopub.execute_input": "2021-06-27T16:54:49.255881Z",
     "iopub.status.busy": "2021-06-27T16:54:49.235290Z",
     "iopub.status.idle": "2021-06-27T16:55:34.424583Z",
     "shell.execute_reply": "2021-06-27T16:55:34.424116Z",
     "shell.execute_reply.started": "2021-06-27T16:00:51.957477Z"
    },
    "papermill": {
     "duration": 45.220816,
     "end_time": "2021-06-27T16:55:34.424733",
     "exception": false,
     "start_time": "2021-06-27T16:54:49.203917",
     "status": "completed"
    },
    "tags": []
   },
   "outputs": [],
   "source": [
    "max_len = 250\n",
    "train_input = bert_encode(train_data.OriginalTweet.values, tokenizer, max_len=max_len)\n",
    "test_input = bert_encode(test_data.OriginalTweet.values, tokenizer, max_len=max_len)\n",
    "train_labels = y"
   ]
  },
  {
   "cell_type": "code",
   "execution_count": 12,
   "id": "light-helmet",
   "metadata": {
    "execution": {
     "iopub.execute_input": "2021-06-27T16:55:34.456900Z",
     "iopub.status.busy": "2021-06-27T16:55:34.456319Z",
     "iopub.status.idle": "2021-06-27T16:55:34.461209Z",
     "shell.execute_reply": "2021-06-27T16:55:34.461757Z",
     "shell.execute_reply.started": "2021-06-27T16:01:38.408083Z"
    },
    "papermill": {
     "duration": 0.022912,
     "end_time": "2021-06-27T16:55:34.461933",
     "exception": false,
     "start_time": "2021-06-27T16:55:34.439021",
     "status": "completed"
    },
    "tags": []
   },
   "outputs": [
    {
     "name": "stdout",
     "output_type": "stream",
     "text": [
      "['Extremely Negative' 'Extremely Positive' 'Negative' 'Neutral' 'Positive']\n"
     ]
    }
   ],
   "source": [
    "labels = label.classes_\n",
    "print(labels)"
   ]
  },
  {
   "cell_type": "code",
   "execution_count": 13,
   "id": "taken-liability",
   "metadata": {
    "execution": {
     "iopub.execute_input": "2021-06-27T16:55:34.497786Z",
     "iopub.status.busy": "2021-06-27T16:55:34.496973Z",
     "iopub.status.idle": "2021-06-27T16:55:35.162490Z",
     "shell.execute_reply": "2021-06-27T16:55:35.162055Z",
     "shell.execute_reply.started": "2021-06-27T16:01:38.414657Z"
    },
    "papermill": {
     "duration": 0.686311,
     "end_time": "2021-06-27T16:55:35.162617",
     "exception": false,
     "start_time": "2021-06-27T16:55:34.476306",
     "status": "completed"
    },
    "tags": []
   },
   "outputs": [
    {
     "name": "stdout",
     "output_type": "stream",
     "text": [
      "Model: \"model\"\n",
      "__________________________________________________________________________________________________\n",
      "Layer (type)                    Output Shape         Param #     Connected to                     \n",
      "==================================================================================================\n",
      "input_word_ids (InputLayer)     [(None, 250)]        0                                            \n",
      "__________________________________________________________________________________________________\n",
      "input_mask (InputLayer)         [(None, 250)]        0                                            \n",
      "__________________________________________________________________________________________________\n",
      "segment_ids (InputLayer)        [(None, 250)]        0                                            \n",
      "__________________________________________________________________________________________________\n",
      "keras_layer (KerasLayer)        [(None, 768), (None, 109482241   input_word_ids[0][0]             \n",
      "                                                                 input_mask[0][0]                 \n",
      "                                                                 segment_ids[0][0]                \n",
      "__________________________________________________________________________________________________\n",
      "tf.__operators__.getitem (Slici (None, 768)          0           keras_layer[0][1]                \n",
      "__________________________________________________________________________________________________\n",
      "dense (Dense)                   (None, 64)           49216       tf.__operators__.getitem[0][0]   \n",
      "__________________________________________________________________________________________________\n",
      "dropout (Dropout)               (None, 64)           0           dense[0][0]                      \n",
      "__________________________________________________________________________________________________\n",
      "dense_1 (Dense)                 (None, 32)           2080        dropout[0][0]                    \n",
      "__________________________________________________________________________________________________\n",
      "dropout_1 (Dropout)             (None, 32)           0           dense_1[0][0]                    \n",
      "__________________________________________________________________________________________________\n",
      "dense_2 (Dense)                 (None, 5)            165         dropout_1[0][0]                  \n",
      "==================================================================================================\n",
      "Total params: 109,533,702\n",
      "Trainable params: 109,533,701\n",
      "Non-trainable params: 1\n",
      "__________________________________________________________________________________________________\n"
     ]
    }
   ],
   "source": [
    "model = build_model(bert_layer, max_len=max_len)\n",
    "model.summary()"
   ]
  },
  {
   "cell_type": "code",
   "execution_count": 14,
   "id": "serial-rhythm",
   "metadata": {
    "execution": {
     "iopub.execute_input": "2021-06-27T16:55:35.195812Z",
     "iopub.status.busy": "2021-06-27T16:55:35.195299Z",
     "iopub.status.idle": "2021-06-27T16:55:35.200852Z",
     "shell.execute_reply": "2021-06-27T16:55:35.200422Z",
     "shell.execute_reply.started": "2021-06-27T16:01:39.072855Z"
    },
    "papermill": {
     "duration": 0.023264,
     "end_time": "2021-06-27T16:55:35.200951",
     "exception": false,
     "start_time": "2021-06-27T16:55:35.177687",
     "status": "completed"
    },
    "tags": []
   },
   "outputs": [
    {
     "data": {
      "text/plain": [
       "(3, 41157)"
      ]
     },
     "execution_count": 14,
     "metadata": {},
     "output_type": "execute_result"
    }
   ],
   "source": [
    "len(train_input),len(train_labels)"
   ]
  },
  {
   "cell_type": "code",
   "execution_count": 15,
   "id": "rubber-stanford",
   "metadata": {
    "execution": {
     "iopub.execute_input": "2021-06-27T16:55:35.235637Z",
     "iopub.status.busy": "2021-06-27T16:55:35.234835Z",
     "iopub.status.idle": "2021-06-27T17:13:20.291486Z",
     "shell.execute_reply": "2021-06-27T17:13:20.292207Z",
     "shell.execute_reply.started": "2021-06-27T16:01:39.080875Z"
    },
    "papermill": {
     "duration": 1065.077021,
     "end_time": "2021-06-27T17:13:20.292475",
     "exception": false,
     "start_time": "2021-06-27T16:55:35.215454",
     "status": "completed"
    },
    "tags": []
   },
   "outputs": [
    {
     "name": "stdout",
     "output_type": "stream",
     "text": [
      "1029/1029 [==============================] - 1062s 1s/step - loss: 1.2736 - accuracy: 0.4469 - val_loss: 0.5275 - val_accuracy: 0.8079\n",
      "\n",
      "Epoch 00001: val_accuracy improved from -inf to 0.80794, saving model to model.h5\n"
     ]
    }
   ],
   "source": [
    "checkpoint = tf.keras.callbacks.ModelCheckpoint('model.h5', monitor='val_accuracy', save_best_only=True, verbose=1)\n",
    "earlystopping = tf.keras.callbacks.EarlyStopping(monitor='val_accuracy', patience=5, verbose=1)\n",
    "\n",
    "train_sh = model.fit(\n",
    "    train_input, train_labels,\n",
    "    validation_split=0.2,\n",
    "    epochs=1,\n",
    "    callbacks=[checkpoint, earlystopping],\n",
    "    batch_size=32,\n",
    "    verbose=1\n",
    ")"
   ]
  },
  {
   "cell_type": "code",
   "execution_count": 16,
   "id": "recreational-lighting",
   "metadata": {
    "execution": {
     "iopub.execute_input": "2021-06-27T17:13:21.297090Z",
     "iopub.status.busy": "2021-06-27T17:13:21.296067Z",
     "iopub.status.idle": "2021-06-27T17:13:58.617017Z",
     "shell.execute_reply": "2021-06-27T17:13:58.618093Z",
     "shell.execute_reply.started": "2021-06-27T16:19:27.013787Z"
    },
    "papermill": {
     "duration": 37.793554,
     "end_time": "2021-06-27T17:13:58.618320",
     "exception": false,
     "start_time": "2021-06-27T17:13:20.824766",
     "status": "completed"
    },
    "tags": []
   },
   "outputs": [],
   "source": [
    "test_pred = model.predict(test_input)"
   ]
  },
  {
   "cell_type": "code",
   "execution_count": 17,
   "id": "incredible-strain",
   "metadata": {
    "execution": {
     "iopub.execute_input": "2021-06-27T17:13:59.328635Z",
     "iopub.status.busy": "2021-06-27T17:13:59.327372Z",
     "iopub.status.idle": "2021-06-27T17:13:59.330451Z",
     "shell.execute_reply": "2021-06-27T17:13:59.329925Z",
     "shell.execute_reply.started": "2021-06-27T16:20:04.618269Z"
    },
    "papermill": {
     "duration": 0.284071,
     "end_time": "2021-06-27T17:13:59.330576",
     "exception": false,
     "start_time": "2021-06-27T17:13:59.046505",
     "status": "completed"
    },
    "tags": []
   },
   "outputs": [],
   "source": [
    "test_data['Sentiment'] = test_pred.round().astype(int)"
   ]
  },
  {
   "cell_type": "code",
   "execution_count": 18,
   "id": "wicked-wright",
   "metadata": {
    "execution": {
     "iopub.execute_input": "2021-06-27T17:13:59.894903Z",
     "iopub.status.busy": "2021-06-27T17:13:59.894288Z",
     "iopub.status.idle": "2021-06-27T17:13:59.897501Z",
     "shell.execute_reply": "2021-06-27T17:13:59.897930Z",
     "shell.execute_reply.started": "2021-06-27T16:20:04.627828Z"
    },
    "papermill": {
     "duration": 0.292092,
     "end_time": "2021-06-27T17:13:59.898066",
     "exception": false,
     "start_time": "2021-06-27T17:13:59.605974",
     "status": "completed"
    },
    "tags": []
   },
   "outputs": [
    {
     "data": {
      "text/html": [
       "<div>\n",
       "<style scoped>\n",
       "    .dataframe tbody tr th:only-of-type {\n",
       "        vertical-align: middle;\n",
       "    }\n",
       "\n",
       "    .dataframe tbody tr th {\n",
       "        vertical-align: top;\n",
       "    }\n",
       "\n",
       "    .dataframe thead th {\n",
       "        text-align: right;\n",
       "    }\n",
       "</style>\n",
       "<table border=\"1\" class=\"dataframe\">\n",
       "  <thead>\n",
       "    <tr style=\"text-align: right;\">\n",
       "      <th></th>\n",
       "      <th>UserName</th>\n",
       "      <th>ScreenName</th>\n",
       "      <th>Location</th>\n",
       "      <th>TweetAt</th>\n",
       "      <th>OriginalTweet</th>\n",
       "      <th>Sentiment</th>\n",
       "    </tr>\n",
       "  </thead>\n",
       "  <tbody>\n",
       "    <tr>\n",
       "      <th>0</th>\n",
       "      <td>1</td>\n",
       "      <td>44953</td>\n",
       "      <td>NYC</td>\n",
       "      <td>02-03-2020</td>\n",
       "      <td>TRENDING: New Yorkers encounter empty supermar...</td>\n",
       "      <td>0</td>\n",
       "    </tr>\n",
       "    <tr>\n",
       "      <th>1</th>\n",
       "      <td>2</td>\n",
       "      <td>44954</td>\n",
       "      <td>Seattle, WA</td>\n",
       "      <td>02-03-2020</td>\n",
       "      <td>When I couldn't find hand sanitizer at Fred Me...</td>\n",
       "      <td>0</td>\n",
       "    </tr>\n",
       "    <tr>\n",
       "      <th>2</th>\n",
       "      <td>3</td>\n",
       "      <td>44955</td>\n",
       "      <td>NaN</td>\n",
       "      <td>02-03-2020</td>\n",
       "      <td>Find out how you can protect yourself and love...</td>\n",
       "      <td>0</td>\n",
       "    </tr>\n",
       "    <tr>\n",
       "      <th>3</th>\n",
       "      <td>4</td>\n",
       "      <td>44956</td>\n",
       "      <td>Chicagoland</td>\n",
       "      <td>02-03-2020</td>\n",
       "      <td>#Panic buying hits #NewYork City as anxious sh...</td>\n",
       "      <td>0</td>\n",
       "    </tr>\n",
       "    <tr>\n",
       "      <th>4</th>\n",
       "      <td>5</td>\n",
       "      <td>44957</td>\n",
       "      <td>Melbourne, Victoria</td>\n",
       "      <td>03-03-2020</td>\n",
       "      <td>#toiletpaper #dunnypaper #coronavirus #coronav...</td>\n",
       "      <td>0</td>\n",
       "    </tr>\n",
       "  </tbody>\n",
       "</table>\n",
       "</div>"
      ],
      "text/plain": [
       "   UserName  ScreenName             Location     TweetAt  \\\n",
       "0         1       44953                  NYC  02-03-2020   \n",
       "1         2       44954          Seattle, WA  02-03-2020   \n",
       "2         3       44955                  NaN  02-03-2020   \n",
       "3         4       44956          Chicagoland  02-03-2020   \n",
       "4         5       44957  Melbourne, Victoria  03-03-2020   \n",
       "\n",
       "                                       OriginalTweet  Sentiment  \n",
       "0  TRENDING: New Yorkers encounter empty supermar...          0  \n",
       "1  When I couldn't find hand sanitizer at Fred Me...          0  \n",
       "2  Find out how you can protect yourself and love...          0  \n",
       "3  #Panic buying hits #NewYork City as anxious sh...          0  \n",
       "4  #toiletpaper #dunnypaper #coronavirus #coronav...          0  "
      ]
     },
     "execution_count": 18,
     "metadata": {},
     "output_type": "execute_result"
    }
   ],
   "source": [
    "test_data.head()"
   ]
  },
  {
   "cell_type": "code",
   "execution_count": 19,
   "id": "reported-renewal",
   "metadata": {
    "execution": {
     "iopub.execute_input": "2021-06-27T17:14:00.463972Z",
     "iopub.status.busy": "2021-06-27T17:14:00.463270Z",
     "iopub.status.idle": "2021-06-27T17:14:00.466465Z",
     "shell.execute_reply": "2021-06-27T17:14:00.466876Z",
     "shell.execute_reply.started": "2021-06-27T16:20:04.644876Z"
    },
    "papermill": {
     "duration": 0.293564,
     "end_time": "2021-06-27T17:14:00.467008",
     "exception": false,
     "start_time": "2021-06-27T17:14:00.173444",
     "status": "completed"
    },
    "tags": []
   },
   "outputs": [
    {
     "data": {
      "text/plain": [
       "0    3382\n",
       "1     416\n",
       "Name: Sentiment, dtype: int64"
      ]
     },
     "execution_count": 19,
     "metadata": {},
     "output_type": "execute_result"
    }
   ],
   "source": [
    "test_data.Sentiment.value_counts()"
   ]
  }
 ],
 "metadata": {
  "kernelspec": {
   "display_name": "Python 3",
   "language": "python",
   "name": "python3"
  },
  "language_info": {
   "codemirror_mode": {
    "name": "ipython",
    "version": 3
   },
   "file_extension": ".py",
   "mimetype": "text/x-python",
   "name": "python",
   "nbconvert_exporter": "python",
   "pygments_lexer": "ipython3",
   "version": "3.7.10"
  },
  "papermill": {
   "default_parameters": {},
   "duration": 1182.036357,
   "end_time": "2021-06-27T17:14:04.001425",
   "environment_variables": {},
   "exception": null,
   "input_path": "__notebook__.ipynb",
   "output_path": "__notebook__.ipynb",
   "parameters": {},
   "start_time": "2021-06-27T16:54:21.965068",
   "version": "2.3.3"
  }
 },
 "nbformat": 4,
 "nbformat_minor": 5
}
